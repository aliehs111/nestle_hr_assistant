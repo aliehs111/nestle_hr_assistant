{
 "cells": [
  {
   "cell_type": "markdown",
   "metadata": {},
   "source": [
    "# Nestlé HR Assistant Setup\n",
    "\n",
    "1. Load Nestlé HR PDF  \n",
    "2. Split into chunks with PyPDFLoader  \n",
    "3. Create embeddings & vectorstore  \n",
    "4. Build QA retrieval chain  \n",
    "5. Launch Gradio interface\n"
   ]
  }
 ],
 "metadata": {
  "language_info": {
   "name": "python"
  }
 },
 "nbformat": 4,
 "nbformat_minor": 2
}
